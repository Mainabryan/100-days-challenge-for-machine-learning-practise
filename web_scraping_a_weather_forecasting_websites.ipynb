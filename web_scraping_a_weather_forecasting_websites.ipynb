{
  "nbformat": 4,
  "nbformat_minor": 0,
  "metadata": {
    "colab": {
      "provenance": [],
      "authorship_tag": "ABX9TyNUM1CiQi2ku1zVuRyo/wHS",
      "include_colab_link": true
    },
    "kernelspec": {
      "name": "python3",
      "display_name": "Python 3"
    },
    "language_info": {
      "name": "python"
    }
  },
  "cells": [
    {
      "cell_type": "markdown",
      "metadata": {
        "id": "view-in-github",
        "colab_type": "text"
      },
      "source": [
        "<a href=\"https://colab.research.google.com/github/Mainabryan/100-days-challenge-for-machine-learning-practise/blob/main/web_scraping_a_weather_forecasting_websites.ipynb\" target=\"_parent\"><img src=\"https://colab.research.google.com/assets/colab-badge.svg\" alt=\"Open In Colab\"/></a>"
      ]
    },
    {
      "cell_type": "code",
      "execution_count": 1,
      "metadata": {
        "colab": {
          "base_uri": "https://localhost:8080/"
        },
        "id": "0q9ZFp1jO9rv",
        "outputId": "4e13d992-318b-4101-e4e9-7a9fc63feddb"
      },
      "outputs": [
        {
          "output_type": "stream",
          "name": "stdout",
          "text": [
            "Time: Tonight\n",
            "Weather: Partly Cloudy\n",
            "Temperature: Low: 51 °F\n",
            "------------------------------\n",
            "Time: Monday\n",
            "Weather: BecomingSunny andBreezy\n",
            "Temperature: High: 64 °F\n",
            "------------------------------\n",
            "Time: Monday Night\n",
            "Weather: Mostly Clearand Breezythen MostlyClear\n",
            "Temperature: Low: 52 °F\n",
            "------------------------------\n",
            "Time: Tuesday\n",
            "Weather: Sunny\n",
            "Temperature: High: 69 °F\n",
            "------------------------------\n",
            "Time: Tuesday Night\n",
            "Weather: Mostly Clear\n",
            "Temperature: Low: 54 °F\n",
            "------------------------------\n",
            "Time: Wednesday\n",
            "Weather: Sunny\n",
            "Temperature: High: 71 °F\n",
            "------------------------------\n",
            "Time: Wednesday Night\n",
            "Weather: Mostly Clear\n",
            "Temperature: Low: 53 °F\n",
            "------------------------------\n",
            "Time: Juneteenth\n",
            "Weather: Sunny\n",
            "Temperature: High: 65 °F\n",
            "------------------------------\n",
            "Time: Thursday Night\n",
            "Weather: Mostly Clear\n",
            "Temperature: Low: 53 °F\n",
            "------------------------------\n"
          ]
        }
      ],
      "source": [
        "import requests\n",
        "from bs4 import BeautifulSoup\n",
        "\n",
        "# Step 1: Load the page\n",
        "page = requests.get(\"https://forecast.weather.gov/MapClick.php?lat=37.7772&lon=-122.4168\")\n",
        "soup = BeautifulSoup(page.content, 'html.parser')\n",
        "\n",
        "# Step 2: Get the forecast section\n",
        "seven_day = soup.find(id=\"seven-day-forecast\")\n",
        "\n",
        "# Step 3: Get each forecast block\n",
        "forecast_items = seven_day.find_all(class_=\"tombstone-container\")\n",
        "\n",
        "# Step 4: Loop through each forecast block\n",
        "for item in forecast_items:\n",
        "    period = item.find(class_=\"period-name\").get_text()\n",
        "    short_desc = item.find(class_=\"short-desc\").get_text()\n",
        "    temp = item.find(class_=\"temp\").get_text()\n",
        "\n",
        "    print(\"Time:\", period)\n",
        "    print(\"Weather:\", short_desc)\n",
        "    print(\"Temperature:\", temp)\n",
        "    print(\"-\" * 30)\n"
      ]
    }
  ]
}