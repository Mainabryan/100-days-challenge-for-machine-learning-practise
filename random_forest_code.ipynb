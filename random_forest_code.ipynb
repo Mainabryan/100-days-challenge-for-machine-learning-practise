{
  "nbformat": 4,
  "nbformat_minor": 0,
  "metadata": {
    "colab": {
      "provenance": [],
      "authorship_tag": "ABX9TyMUiSHnxdlLr3MksSWs1u73",
      "include_colab_link": true
    },
    "kernelspec": {
      "name": "python3",
      "display_name": "Python 3"
    },
    "language_info": {
      "name": "python"
    }
  },
  "cells": [
    {
      "cell_type": "markdown",
      "metadata": {
        "id": "view-in-github",
        "colab_type": "text"
      },
      "source": [
        "<a href=\"https://colab.research.google.com/github/Mainabryan/100-days-challenge-for-machine-learning-practise/blob/main/random_forest_code.ipynb\" target=\"_parent\"><img src=\"https://colab.research.google.com/assets/colab-badge.svg\" alt=\"Open In Colab\"/></a>"
      ]
    },
    {
      "cell_type": "markdown",
      "source": [
        "# Random forest code"
      ],
      "metadata": {
        "id": "1MGESKfPs0AO"
      }
    },
    {
      "cell_type": "code",
      "execution_count": 1,
      "metadata": {
        "id": "mDqKU_pFsC-4"
      },
      "outputs": [],
      "source": [
        "from sklearn import datasets\n",
        "import pandas as pd\n",
        "from sklearn.model_selection import train_test_split\n",
        "from sklearn.ensemble import RandomForestClassifier #Importing Random Forest Classifier\n",
        "from sklearn import metrics  # Importing metrics to test accuracy\n",
        "iris = datasets.load_iris()\n",
        "data=pd.DataFrame({\n",
        "'sepal length': iris.data[:,0],\n",
        "'sepal width': iris.data[:,1],\n",
        "'petal length': iris.data[:,2],\n",
        "'petal width': iris.data[:,3],\n",
        "'species': iris.target})\n",
        "X=data[['sepal length', 'sepal width', 'petal length', 'petal width']] #features\n",
        "y=data['species']  #target\n",
        "x_train, x_test, y_train, y_test= train_test_split(X, y, test_size=0.3) #splitting data with test size of 30%"
      ]
    },
    {
      "cell_type": "markdown",
      "source": [
        "# RANDOM FOREST PREDICTION"
      ],
      "metadata": {
        "id": "XIJkPEBTsoV-"
      }
    },
    {
      "cell_type": "code",
      "source": [
        "clf=RandomForestClassifier(n_estimators=10)  #Creating a random forest with 10 decision trees\n",
        "clf.fit(x_train, y_train)  #Training our model\n",
        "y_pred=clf.predict(x_test)  #testing our model\n",
        "print(\"Accuracy:\", metrics.accuracy_score(y_test, y_pred))  #Measuring the accuracy of our model"
      ],
      "metadata": {
        "colab": {
          "base_uri": "https://localhost:8080/"
        },
        "id": "PqZiGWefss06",
        "outputId": "1b25b7af-2e00-49a1-ec79-7a5ee2f251ab"
      },
      "execution_count": 2,
      "outputs": [
        {
          "output_type": "stream",
          "name": "stdout",
          "text": [
            "Accuracy: 0.9555555555555556\n"
          ]
        }
      ]
    }
  ]
}