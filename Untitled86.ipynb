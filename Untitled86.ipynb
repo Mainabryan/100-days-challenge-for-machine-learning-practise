{
  "nbformat": 4,
  "nbformat_minor": 0,
  "metadata": {
    "colab": {
      "provenance": [],
      "authorship_tag": "ABX9TyM94qGdU38ODzAXQ1p4amc+",
      "include_colab_link": true
    },
    "kernelspec": {
      "name": "python3",
      "display_name": "Python 3"
    },
    "language_info": {
      "name": "python"
    }
  },
  "cells": [
    {
      "cell_type": "markdown",
      "metadata": {
        "id": "view-in-github",
        "colab_type": "text"
      },
      "source": [
        "<a href=\"https://colab.research.google.com/github/Mainabryan/100-days-challenge-for-machine-learning-practise/blob/main/Untitled86.ipynb\" target=\"_parent\"><img src=\"https://colab.research.google.com/assets/colab-badge.svg\" alt=\"Open In Colab\"/></a>"
      ]
    },
    {
      "cell_type": "code",
      "execution_count": 1,
      "metadata": {
        "colab": {
          "base_uri": "https://localhost:8080/"
        },
        "id": "InVZwk0iLy7n",
        "outputId": "de4e6f7b-ee48-4609-b66e-89a373d5734b"
      },
      "outputs": [
        {
          "output_type": "stream",
          "name": "stdout",
          "text": [
            "Best Parameters Found: {'C': 100, 'gamma': 0.01, 'kernel': 'rbf'}\n",
            "Confusion Matrix:\n",
            "[[19  0  0]\n",
            " [ 0 13  0]\n",
            " [ 0  0 13]]\n",
            "Accuracy: 100.00%\n"
          ]
        }
      ],
      "source": [
        "\n",
        "from sklearn.datasets import load_iris\n",
        "from sklearn.model_selection import train_test_split, GridSearchCV\n",
        "from sklearn.svm import SVC\n",
        "from sklearn.metrics import confusion_matrix, accuracy_score\n",
        "\n",
        "# Step 1: Load the Iris Dataset\n",
        "iris = load_iris()\n",
        "X = iris.data\n",
        "y = iris.target\n",
        "\n",
        "# Step 2: Split into Training and Testing sets (70% training, 30% testing)\n",
        "X_train, X_test, y_train, y_test = train_test_split(X, y, test_size=0.3, random_state=42)\n",
        "\n",
        "# Step 3: Define the Parameter Grid\n",
        "param_grid = {\n",
        "    'C': [0.1, 1, 5, 10, 30, 100, 200],\n",
        "    'gamma': [0.001, 0.01, 0.1, 1],\n",
        "    'kernel': ['linear', 'rbf', 'poly']\n",
        "}\n",
        "\n",
        "# Step 4: Set up the Grid Search\n",
        "# verbose=0: Controls the verbosity (logging level) of the grid search output. 0 means no additional output.\n",
        "# cv=5: Uses 5-fold cross-validation. The training set is split into 5 folds; the model is trained on 4 folds and validated on the remaining 1 fold, repeating this 5 times.\n",
        "grid = GridSearchCV(SVC(), param_grid, verbose=0, cv=5)\n",
        "\n",
        "# Step 5: Fit the Grid Search on the Training Data\n",
        "grid.fit(X_train, y_train)\n",
        "\n",
        "# Step 6: Print the Best Parameters Found\n",
        "print(\"Best Parameters Found:\", grid.best_params_)\n",
        "\n",
        "# Step 7: Evaluate on the Test Set\n",
        "y_pred = grid.predict(X_test)\n",
        "cm = confusion_matrix(y_test, y_pred)\n",
        "acc = accuracy_score(y_test, y_pred)\n",
        "\n",
        "print(\"Confusion Matrix:\")\n",
        "print(cm)\n",
        "print(f\"Accuracy: {acc*100:.2f}%\")"
      ]
    }
  ]
}