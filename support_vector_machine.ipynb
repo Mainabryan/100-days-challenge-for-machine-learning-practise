{
  "nbformat": 4,
  "nbformat_minor": 0,
  "metadata": {
    "colab": {
      "provenance": [],
      "authorship_tag": "ABX9TyMp17cBHHoSFpQuKEb9sRnL",
      "include_colab_link": true
    },
    "kernelspec": {
      "name": "python3",
      "display_name": "Python 3"
    },
    "language_info": {
      "name": "python"
    }
  },
  "cells": [
    {
      "cell_type": "markdown",
      "metadata": {
        "id": "view-in-github",
        "colab_type": "text"
      },
      "source": [
        "<a href=\"https://colab.research.google.com/github/Mainabryan/100-days-challenge-for-machine-learning-practise/blob/main/support_vector_machine.ipynb\" target=\"_parent\"><img src=\"https://colab.research.google.com/assets/colab-badge.svg\" alt=\"Open In Colab\"/></a>"
      ]
    },
    {
      "cell_type": "code",
      "execution_count": 1,
      "metadata": {
        "colab": {
          "base_uri": "https://localhost:8080/"
        },
        "id": "XVOHaFERDxMF",
        "outputId": "bfa87d03-db9d-4e75-93e4-95033c6be9d3"
      },
      "outputs": [
        {
          "output_type": "stream",
          "name": "stdout",
          "text": [
            "LinearSVC Accuracy: 0.99\n",
            "SVC (RBF) Accuracy: 0.99\n",
            "NuSVC Accuracy: 1.00\n",
            "SVC (Poly) Accuracy: 0.99\n"
          ]
        }
      ],
      "source": [
        "import numpy as np\n",
        "from sklearn.datasets import make_classification\n",
        "from sklearn.model_selection import train_test_split\n",
        "from sklearn.svm import LinearSVC, SVC, NuSVC\n",
        "from sklearn.metrics import accuracy_score\n",
        "\n",
        "# Step 1: Create a synthetic classification dataset\n",
        "X, y = make_classification(n_samples=500, n_features=10, n_informative=5,n_redundant=2, n_clusters_per_class=1,random_state=42)\n",
        "\n",
        "# Step 2: Split the dataset into training and testing sets\n",
        "X_train, X_test, y_train, y_test = train_test_split(X, y,test_size=0.2, random_state=42)\n",
        "\n",
        "# Step 3: Train a LinearSVC model (linear kernel only)\n",
        "linear_clf = LinearSVC(random_state=42, max_iter=10000)\n",
        "linear_clf.fit(X_train, y_train)\n",
        "y_pred_linear = linear_clf.predict(X_test)\n",
        "acc_linear = accuracy_score(y_test, y_pred_linear)\n",
        "print(f\"LinearSVC Accuracy: {acc_linear:.2f}\")\n",
        "\n",
        "# Step 4: Train an SVC with the default RBF kernel\n",
        "rbf_clf = SVC(kernel='rbf', C=1.0, gamma='scale', random_state=42)\n",
        "rbf_clf.fit(X_train, y_train)\n",
        "y_pred_rbf = rbf_clf.predict(X_test)\n",
        "acc_rbf = accuracy_score(y_test, y_pred_rbf)\n",
        "print(f\"SVC (RBF) Accuracy: {acc_rbf:.2f}\")\n",
        "\n",
        "# Step 5: Train a NuSVC (RBF kernel by default)\n",
        "nu_clf = NuSVC(nu=0.5, kernel='rbf', gamma='scale', random_state=42)\n",
        "nu_clf.fit(X_train, y_train)\n",
        "y_pred_nu = nu_clf.predict(X_test)\n",
        "acc_nu = accuracy_score(y_test, y_pred_nu)\n",
        "print(f\"NuSVC Accuracy: {acc_nu:.2f}\")\n",
        "\n",
        "# Optional: Experiment with a polynomial kernel\n",
        "poly_clf = SVC(kernel='poly', degree=3, C=1.0, gamma='scale', random_state=42)\n",
        "poly_clf.fit(X_train, y_train)\n",
        "y_pred_poly = poly_clf.predict(X_test)\n",
        "acc_poly = accuracy_score(y_test, y_pred_poly)\n",
        "print(f\"SVC (Poly) Accuracy: {acc_poly:.2f}\")"
      ]
    }
  ]
}