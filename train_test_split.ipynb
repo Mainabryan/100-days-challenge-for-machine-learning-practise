{
  "nbformat": 4,
  "nbformat_minor": 0,
  "metadata": {
    "colab": {
      "provenance": [],
      "authorship_tag": "ABX9TyOXM+mIuh61GRdLpeQ8QfxM",
      "include_colab_link": true
    },
    "kernelspec": {
      "name": "python3",
      "display_name": "Python 3"
    },
    "language_info": {
      "name": "python"
    }
  },
  "cells": [
    {
      "cell_type": "markdown",
      "metadata": {
        "id": "view-in-github",
        "colab_type": "text"
      },
      "source": [
        "<a href=\"https://colab.research.google.com/github/Mainabryan/100-days-challenge-for-machine-learning-practise/blob/main/train_test_split.ipynb\" target=\"_parent\"><img src=\"https://colab.research.google.com/assets/colab-badge.svg\" alt=\"Open In Colab\"/></a>"
      ]
    },
    {
      "cell_type": "markdown",
      "source": [
        "# import the necessary files"
      ],
      "metadata": {
        "id": "ytIq9ACQ79GJ"
      }
    },
    {
      "source": [
        "import numpy as np\n",
        "import pandas as pd\n",
        "import matplotlib.pyplot as plt\n",
        "import seaborn as sns\n",
        "from sklearn.model_selection import train_test_split\n",
        "from sklearn.linear_model import LinearRegression\n",
        "from sklearn.preprocessing import PolynomialFeatures # Changed Polynomialfeauture to PolynomialFeatures"
      ],
      "cell_type": "code",
      "metadata": {
        "id": "y2j1UmLK9O5Y"
      },
      "execution_count": 4,
      "outputs": []
    },
    {
      "cell_type": "markdown",
      "source": [
        "# generate the non-linear dataset"
      ],
      "metadata": {
        "id": "itDdnV9Z-Ean"
      }
    },
    {
      "cell_type": "code",
      "source": [
        "X = np.array([1, 2, 3, 4, 5, 6, 7, 8, 9, 10]).reshape(-1, 1)\n",
        "Y = np.array([2, 6, 14, 28, 50, 80, 120, 170, 230, 310])"
      ],
      "metadata": {
        "id": "X4400yGf-OVJ"
      },
      "execution_count": 5,
      "outputs": []
    },
    {
      "cell_type": "markdown",
      "source": [
        "\n",
        "# First split: Training (60%) and Temporary Set (40%)\n"
      ],
      "metadata": {
        "id": "iCJBY9Gb-37m"
      }
    },
    {
      "cell_type": "code",
      "source": [
        "\n",
        "\n",
        "X_train, X_temp, Y_train, Y_temp = train_test_split(X, Y, test_size=0.4, random_state=42)"
      ],
      "metadata": {
        "id": "5bfFizCN_F8D"
      },
      "execution_count": 6,
      "outputs": []
    },
    {
      "cell_type": "markdown",
      "source": [
        "\n",
        "# Second split: Validation (20%) and Test (20%)"
      ],
      "metadata": {
        "id": "_RettqoM_PQ5"
      }
    },
    {
      "cell_type": "code",
      "source": [
        "X_val, X_test, Y_val, Y_test = train_test_split(X_temp, Y_temp, test_size=0.5, random_state=42)\n"
      ],
      "metadata": {
        "id": "L1BxcoCV_ZGO"
      },
      "execution_count": 7,
      "outputs": []
    },
    {
      "cell_type": "markdown",
      "source": [
        "# print the dataset"
      ],
      "metadata": {
        "id": "jdCY-wha_knk"
      }
    },
    {
      "cell_type": "code",
      "source": [
        "# Print dataset sizes\n",
        "print(\"Training Set Size:\", len(X_train))\n",
        "print(\"Validation Set Size:\", len(X_val))\n",
        "print(\"Test Set Size:\", len(X_test))"
      ],
      "metadata": {
        "colab": {
          "base_uri": "https://localhost:8080/"
        },
        "id": "Nlu6kVUU_6rC",
        "outputId": "40782a1c-7114-407b-dd9a-685e9d24264d"
      },
      "execution_count": 8,
      "outputs": [
        {
          "output_type": "stream",
          "name": "stdout",
          "text": [
            "Training Set Size: 6\n",
            "Validation Set Size: 2\n",
            "Test Set Size: 2\n"
          ]
        }
      ]
    }
  ]
}