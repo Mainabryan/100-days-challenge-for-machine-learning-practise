{
  "nbformat": 4,
  "nbformat_minor": 0,
  "metadata": {
    "colab": {
      "provenance": [],
      "authorship_tag": "ABX9TyNSe9rVpZH/FfAAbac3Sz/p",
      "include_colab_link": true
    },
    "kernelspec": {
      "name": "python3",
      "display_name": "Python 3"
    },
    "language_info": {
      "name": "python"
    }
  },
  "cells": [
    {
      "cell_type": "markdown",
      "metadata": {
        "id": "view-in-github",
        "colab_type": "text"
      },
      "source": [
        "<a href=\"https://colab.research.google.com/github/Mainabryan/100-days-challenge-for-machine-learning-practise/blob/main/EPL_MACHINE_LEARNING_MODEL.ipynb\" target=\"_parent\"><img src=\"https://colab.research.google.com/assets/colab-badge.svg\" alt=\"Open In Colab\"/></a>"
      ]
    },
    {
      "cell_type": "markdown",
      "source": [
        "## Import the necessary libraries"
      ],
      "metadata": {
        "id": "honhZXE6yxDs"
      }
    },
    {
      "cell_type": "code",
      "source": [
        "#Necessary libraries for regression\n",
        "import pandas as pd\n",
        "import numpy as np\n",
        "import matplotlib.pyplot as plt\n",
        "import seaborn as sns\n",
        "from sklearn.model_selection import train_test_split\n",
        "from sklearn.linear_model import LinearRegression\n",
        "from sklearn.metrics import mean_squared_error, r2_score"
      ],
      "metadata": {
        "id": "WetILv0dy7Jh"
      },
      "execution_count": 1,
      "outputs": []
    },
    {
      "cell_type": "markdown",
      "source": [
        "## Load the dataset"
      ],
      "metadata": {
        "id": "OUyxJ4FIOCZn"
      }
    },
    {
      "cell_type": "code",
      "execution_count": 5,
      "metadata": {
        "id": "6TQWG4-NN44X"
      },
      "outputs": [],
      "source": [
        "import pandas as pd\n",
        "data = pd.read_csv(\"/content/epl_player_stats_24_25.csv\")"
      ]
    },
    {
      "cell_type": "code",
      "source": [
        "data.columns"
      ],
      "metadata": {
        "colab": {
          "base_uri": "https://localhost:8080/"
        },
        "id": "79Fl_2UeOeET",
        "outputId": "f1fd4c43-39b2-4a33-c846-5a0edefe0727"
      },
      "execution_count": 6,
      "outputs": [
        {
          "output_type": "execute_result",
          "data": {
            "text/plain": [
              "Index(['Player Name', 'Club', 'Nationality', 'Position', 'Appearances',\n",
              "       'Minutes', 'Goals', 'Assists', 'Shots', 'Shots On Target',\n",
              "       'Conversion %', 'Big Chances Missed', 'Hit Woodwork', 'Offsides',\n",
              "       'Touches', 'Passes', 'Successful Passes', 'Passes%', 'Crosses',\n",
              "       'Successful Crosses', 'Crosses %', 'fThird Passes',\n",
              "       'Successful fThird Passes', 'fThird Passes %', 'Through Balls',\n",
              "       'Carries', 'Progressive Carries', 'Carries Ended with Goal',\n",
              "       'Carries Ended with Assist', 'Carries Ended with Shot',\n",
              "       'Carries Ended with Chance', 'Possession Won', 'Dispossessed',\n",
              "       'Clean Sheets', 'Clearances', 'Interceptions', 'Blocks', 'Tackles',\n",
              "       'Ground Duels', 'gDuels Won', 'gDuels %', 'Aerial Duels', 'aDuels Won',\n",
              "       'aDuels %', 'Goals Conceded', 'xGoT Conceded', 'Own Goals', 'Fouls',\n",
              "       'Yellow Cards', 'Red Cards', 'Saves', 'Saves %', 'Penalties Saved',\n",
              "       'Clearances Off Line', 'Punches', 'High Claims', 'Goals Prevented'],\n",
              "      dtype='object')"
            ]
          },
          "metadata": {},
          "execution_count": 6
        }
      ]
    }
  ]
}