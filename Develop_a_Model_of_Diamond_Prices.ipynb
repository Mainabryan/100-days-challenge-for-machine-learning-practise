{
  "cells": [
    {
      "cell_type": "markdown",
      "metadata": {
        "id": "view-in-github",
        "colab_type": "text"
      },
      "source": [
        "<a href=\"https://colab.research.google.com/github/Mainabryan/100-days-challenge-for-machine-learning-practise/blob/main/Develop_a_Model_of_Diamond_Prices.ipynb\" target=\"_parent\"><img src=\"https://colab.research.google.com/assets/colab-badge.svg\" alt=\"Open In Colab\"/></a>"
      ]
    },
    {
      "cell_type": "markdown",
      "metadata": {
        "id": "GeknBDhdUkPm"
      },
      "source": [
        "# Multiple Linear Regression - Cumulative Lab"
      ]
    },
    {
      "cell_type": "markdown",
      "metadata": {
        "id": "r5Hx69UqUkPr"
      },
      "source": [
        "## Introduction\n",
        "\n",
        "In this cumulative lab you'll perform an end-to-end analysis of a dataset using multiple linear regression."
      ]
    },
    {
      "cell_type": "markdown",
      "metadata": {
        "id": "zsLst-wdUkPt"
      },
      "source": [
        "## Objectives\n",
        "\n",
        "You will be able to:\n",
        "\n",
        "* Prepare data for regression analysis using pandas\n",
        "* Build multiple linear regression models using StatsModels\n",
        "* Measure regression model performance\n",
        "* Interpret multiple linear regression coefficients"
      ]
    },
    {
      "cell_type": "markdown",
      "metadata": {
        "id": "_aKghDRXUkPv"
      },
      "source": [
        "## Your Task: Develop a Model of Diamond Prices\n",
        "\n",
        "![tweezers holding a diamond](https://curriculum-content.s3.amazonaws.com/data-science/images/diamond.jpg)\n",
        "\n",
        "Photo by <a href=\"https://unsplash.com/@tahliaclaire?utm_source=unsplash&utm_medium=referral&utm_content=creditCopyText\">Tahlia Doyle</a> on <a href=\"https://unsplash.com/s/photos/diamonds?utm_source=unsplash&utm_medium=referral&utm_content=creditCopyText\">Unsplash</a>"
      ]
    },
    {
      "cell_type": "markdown",
      "metadata": {
        "id": "ykZ_q9ZkUkPx"
      },
      "source": [
        "### Business Understanding\n",
        "\n",
        "You've been asked to perform an analysis to see how various factors impact the price of diamonds. There are various [guides online](https://www.diamonds.pro/education/diamond-prices/) that claim to tell consumers how to avoid getting \"ripped off\", but you've been asked to dig into the data to see whether these claims ring true.\n",
        "\n",
        "### Data Understanding\n",
        "\n",
        "We have downloaded a diamonds dataset from [Kaggle](https://www.kaggle.com/datasets/shivam2503/diamonds), which came with this description:\n",
        "\n",
        "* **price** price in US dollars (\\$326--\\$18,823)\n",
        "* **carat** weight of the diamond (0.2--5.01)\n",
        "* **cut** quality of the cut (Fair, Good, Very Good, Premium, Ideal)\n",
        "* **color** diamond colour, from J (worst) to D (best)\n",
        "* **clarity** a measurement of how clear the diamond is (I1 (worst), SI2, SI1, VS2, VS1, VVS2, VVS1, IF (best))\n",
        "* **x** length in mm (0--10.74)\n",
        "* **y** width in mm (0--58.9)\n",
        "* **z** depth in mm (0--31.8)\n",
        "* **depth** total depth percentage = z / mean(x, y) = 2 * z / (x + y) (43--79)\n",
        "* **table** width of top of diamond relative to widest point (43--95)"
      ]
    },
    {
      "cell_type": "markdown",
      "metadata": {
        "id": "kyIHvZ1VUkPz"
      },
      "source": [
        "### Requirements\n",
        "\n",
        "#### 1. Load the Data Using Pandas\n",
        "\n",
        "Practice once again with loading CSV data into a `pandas` dataframe.\n",
        "\n",
        "#### 2. Build a Baseline Simple Linear Regression Model\n",
        "\n",
        "Identify the feature that is most correlated with `price` and build a StatsModels linear regression model using just that feature.\n",
        "\n",
        "#### 3. Evaluate and Interpret Baseline Model Results\n",
        "\n",
        "Explain the overall performance as well as parameter coefficients for the baseline simple linear regression model.\n",
        "\n",
        "#### 4. Prepare a Categorical Feature for Multiple Regression Modeling\n",
        "\n",
        "Identify a promising categorical feature and use `pd.get_dummies()` to prepare it for modeling.\n",
        "\n",
        "#### 5. Build a Multiple Linear Regression Model\n",
        "\n",
        "Using the data from Step 4, create a second StatsModels linear regression model using one numeric feature and one one-hot encoded categorical feature.\n",
        "\n",
        "#### 6. Evaluate and Interpret Multiple Linear Regression Model Results\n",
        "\n",
        "Explain the performance of the new model in comparison with the baseline, and interpret the new parameter coefficients."
      ]
    },
    {
      "cell_type": "markdown",
      "metadata": {
        "id": "bWYmZK2_UkP3"
      },
      "source": [
        "## 1. Load the Data Using Pandas\n",
        "\n",
        "Import `pandas` (with the standard alias `pd`), and load the data from the file `diamonds.csv` into a DataFrame called `diamonds`.\n",
        "\n",
        "Be sure to specify `index_col=0` to avoid creating an \"Unnamed: 0\" column."
      ]
    },
    {
      "cell_type": "markdown",
      "metadata": {
        "id": "osRxslhAUkXo"
      },
      "source": [
        "## 2. Build a Baseline Simple Linear Regression Model\n",
        "\n",
        "### Identifying a Highly Correlated Predictor\n",
        "\n",
        "The target variable is `price`. Look at the correlation coefficients for all of the predictor variables to find the one with the highest correlation with `price`."
      ]
    },
    {
      "cell_type": "markdown",
      "metadata": {
        "id": "z02zAHCHUkXr"
      },
      "source": [
        "### Plotting the Predictor vs. Price\n",
        "\n",
        "We'll also create a scatter plot of that variable vs. `price`:"
      ]
    },
    {
      "cell_type": "markdown",
      "metadata": {
        "id": "onHlcy46UkXs"
      },
      "source": [
        "### Setting Up Variables for Regression\n",
        "\n",
        "Declare `y` and `X_baseline` variables, where `y` is a Series containing `price` data and `X_baseline` is a DataFrame containing the column with the strongest correlation."
      ]
    },
    {
      "cell_type": "markdown",
      "metadata": {
        "id": "EYzuW_w1UkXu"
      },
      "source": [
        "### Creating and Fitting Simple Linear Regression\n",
        "\n",
        "The following code uses your variables to build and fit a simple linear regression."
      ]
    },
    {
      "cell_type": "markdown",
      "metadata": {
        "id": "bTiMtuqpUkXv"
      },
      "source": [
        "## 3. Evaluate and Interpret Baseline Model Results\n",
        "\n",
        "Write any necessary code to evaluate the model performance overall and interpret its coefficients."
      ]
    },
    {
      "cell_type": "markdown",
      "metadata": {
        "id": "ZaTRkOVLUkXz"
      },
      "source": [
        "## 4. Prepare a Categorical Feature for Multiple Regression Modeling\n",
        "\n",
        "Now let's go beyond our simple linear regression and add a categorical feature.\n",
        "\n",
        "### Identifying a Promising Predictor\n",
        "\n",
        "Below we create bar graphs for the categories present in each categorical feature:"
      ]
    },
    {
      "cell_type": "markdown",
      "metadata": {
        "id": "rz3t7vWFUkYM"
      },
      "source": [
        "### Preprocessing Categorical Variable\n",
        "\n",
        "If we tried to pass `X_iterated` as-is into `sm.OLS`, we would get an error. We need to use `pd.get_dummies` to create dummy variables for `cat_col`.\n",
        "\n",
        "**DO NOT** use `drop_first=True`, so that you can intentionally set a meaningful reference category instead."
      ]
    },
    {
      "cell_type": "markdown",
      "metadata": {
        "id": "RtCYE7GlUkYO"
      },
      "source": [
        "Now, applying your domain understanding, **choose a column to drop and drop it**. This category should make sense as a \"baseline\" or \"reference\". For the \"cut_Very Good\" column that was generated when `pd.get_dummies` was used, we need to remove the space in the column name."
      ]
    },
    {
      "cell_type": "markdown",
      "metadata": {
        "id": "yksC2z1SUkYR"
      },
      "source": [
        "## 5. Build a Multiple Linear Regression Model\n",
        "\n",
        "Using the `y` variable from our previous model and `X_iterated`, build a model called `iterated_model` and a regression results object called `iterated_results`."
      ]
    },
    {
      "cell_type": "markdown",
      "metadata": {
        "id": "y9d_wjqiUkYS"
      },
      "source": [
        "## 6. Evaluate and Interpret Multiple Linear Regression Model Results\n",
        "\n",
        "If the model was set up correctly, the following code will print the results summary."
      ]
    },
    {
      "cell_type": "markdown",
      "metadata": {
        "id": "zktt_n-mUkYT"
      },
      "source": [
        "Summarize your findings below. How did the iterated model perform overall? How does this compare to the baseline model? What do the coefficients mean?\n",
        "\n",
        "Create as many additional cells as needed."
      ]
    }
  ],
  "metadata": {
    "kernelspec": {
      "display_name": "Python (learn-env)",
      "language": "python",
      "name": "learn-env"
    },
    "language_info": {
      "codemirror_mode": {
        "name": "ipython",
        "version": 3
      },
      "file_extension": ".py",
      "mimetype": "text/x-python",
      "name": "python",
      "nbconvert_exporter": "python",
      "pygments_lexer": "ipython3",
      "version": "3.9.16"
    },
    "colab": {
      "provenance": [],
      "include_colab_link": true
    }
  },
  "nbformat": 4,
  "nbformat_minor": 0
}