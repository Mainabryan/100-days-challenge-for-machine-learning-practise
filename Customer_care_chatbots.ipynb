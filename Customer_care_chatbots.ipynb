{
  "nbformat": 4,
  "nbformat_minor": 0,
  "metadata": {
    "colab": {
      "provenance": [],
      "authorship_tag": "ABX9TyPjW3ujiV/WeQXe8OXfZwx5",
      "include_colab_link": true
    },
    "kernelspec": {
      "name": "python3",
      "display_name": "Python 3"
    },
    "language_info": {
      "name": "python"
    }
  },
  "cells": [
    {
      "cell_type": "markdown",
      "metadata": {
        "id": "view-in-github",
        "colab_type": "text"
      },
      "source": [
        "<a href=\"https://colab.research.google.com/github/Mainabryan/100-days-challenge-for-machine-learning-practise/blob/main/Customer_care_chatbots.ipynb\" target=\"_parent\"><img src=\"https://colab.research.google.com/assets/colab-badge.svg\" alt=\"Open In Colab\"/></a>"
      ]
    },
    {
      "cell_type": "markdown",
      "source": [
        "#Define basic  questions and answers"
      ],
      "metadata": {
        "id": "wlPGSnz0ru_x"
      }
    },
    {
      "cell_type": "code",
      "execution_count": 1,
      "metadata": {
        "id": "2O8_DEOqrMmY"
      },
      "outputs": [],
      "source": [
        "# Step 1: Define basic question-answer pairs\n",
        "\n",
        "faq = {\n",
        "    \"what are your working hours\": \"Our working hours are Monday to Friday, 9 AM to 5 PM.\",\n",
        "    \"how can i reset my password\": \"To reset your password, click on 'Forgot Password' at the login page.\",\n",
        "    \"do you offer refunds\": \"Yes, we offer refunds within 30 days of purchase. Please contact support.\",\n",
        "    \"where is your office located\": \"We are located at Nairobi CBD, Moi Avenue, 4th Floor.\",\n",
        "    \"how can i contact support\": \"You can contact us via email at support@example.com or call 0712 345 678.\"\n",
        "}\n"
      ]
    },
    {
      "cell_type": "markdown",
      "source": [
        "# Get user input and match with FAQ"
      ],
      "metadata": {
        "id": "TDapQCewsC-q"
      }
    },
    {
      "cell_type": "code",
      "source": [
        "# Step 2: Take user input and respond\n",
        "\n",
        "# Get input from user\n",
        "user_input = input(\"You: \").lower().strip()\n",
        "\n",
        "# Respond to the question\n",
        "if user_input in faq:\n",
        "    print(\"Bot:\", faq[user_input])\n",
        "else:\n",
        "    print(\"Bot: Sorry, I didn’t understand that. Could you please rephrase?\")\n"
      ],
      "metadata": {
        "colab": {
          "base_uri": "https://localhost:8080/"
        },
        "id": "cuK6bDMcsOru",
        "outputId": "2062c93a-580e-44d5-d4ac-36ed91b5f364"
      },
      "execution_count": 2,
      "outputs": [
        {
          "output_type": "stream",
          "name": "stdout",
          "text": [
            "You: Bot\n",
            "Bot: Sorry, I didn’t understand that. Could you please rephrase?\n"
          ]
        }
      ]
    },
    {
      "cell_type": "markdown",
      "source": [
        "#Add a chat loop"
      ],
      "metadata": {
        "id": "igzU46ihshe2"
      }
    },
    {
      "cell_type": "code",
      "source": [
        "# Step 3: Loop the chatbot so it keeps chatting\n",
        "\n",
        "print(\"Bot: Hi there! How can I help you today? (Type 'bye' to exit)\\n\")\n",
        "\n",
        "while True:\n",
        "    user_input = input(\"You: \").lower().strip()\n",
        "\n",
        "    if user_input == \"bye\" or user_input == \"exit\":\n",
        "        print(\"Bot: Goodbye! Have a great day! 👋\")\n",
        "        break\n",
        "\n",
        "    if user_input in faq:\n",
        "        print(\"Bot:\", faq[user_input])\n",
        "    else:\n",
        "        print(\"Bot: Sorry, I didn’t understand that. Could you please rephrase?\")\n"
      ],
      "metadata": {
        "colab": {
          "base_uri": "https://localhost:8080/"
        },
        "id": "SIueVTR6sjhd",
        "outputId": "1b7ee3b7-7133-434b-8566-9e4e2044cb75"
      },
      "execution_count": 3,
      "outputs": [
        {
          "output_type": "stream",
          "name": "stdout",
          "text": [
            "Bot: Hi there! How can I help you today? (Type 'bye' to exit)\n",
            "\n",
            "You: Bot\n",
            "Bot: Sorry, I didn’t understand that. Could you please rephrase?\n",
            "You: what are your working hours\n",
            "Bot: Our working hours are Monday to Friday, 9 AM to 5 PM.\n",
            "You: do you offer refunds\n",
            "Bot: Yes, we offer refunds within 30 days of purchase. Please contact support.\n",
            "You:  bye\n",
            "Bot: Goodbye! Have a great day! 👋\n"
          ]
        }
      ]
    },
    {
      "cell_type": "markdown",
      "source": [
        "#Add smart matching using keyword search"
      ],
      "metadata": {
        "id": "lPJ8NNm_tTy1"
      }
    },
    {
      "cell_type": "code",
      "source": [
        "# Step 4: Add keyword-based matching for flexibility\n",
        "\n",
        "def get_bot_response(user_input):\n",
        "    user_input = user_input.lower()\n",
        "\n",
        "    for question in faq:\n",
        "        if any(word in user_input for word in question.split()):\n",
        "            return faq[question]\n",
        "\n",
        "    return \"Sorry, I didn’t understand that. Could you please rephrase?\"\n",
        "\n",
        "# Start the chatbot loop again with smart matching\n",
        "print(\"Bot: Hi there! Ask me anything about our services. (Type 'bye' to exit)\\n\")\n",
        "\n",
        "while True:\n",
        "    user_input = input(\"You: \").lower().strip()\n",
        "\n",
        "    if user_input in [\"bye\", \"exit\"]:\n",
        "        print(\"Bot: Goodbye! Have a great day! 👋\")\n",
        "        break\n",
        "\n",
        "    response = get_bot_response(user_input)\n",
        "    print(\"Bot:\", response)\n"
      ],
      "metadata": {
        "colab": {
          "base_uri": "https://localhost:8080/"
        },
        "id": "alDiY8XttXmH",
        "outputId": "d0a2e12b-876f-40d5-b929-7e951424eeee"
      },
      "execution_count": 4,
      "outputs": [
        {
          "output_type": "stream",
          "name": "stdout",
          "text": [
            "Bot: Hi there! Ask me anything about our services. (Type 'bye' to exit)\n",
            "\n",
            "You: can i reset my password\n",
            "Bot: To reset your password, click on 'Forgot Password' at the login page.\n",
            "You: i want to contact you guys\n",
            "Bot: To reset your password, click on 'Forgot Password' at the login page.\n",
            "You: i want to contact you guys\n",
            "Bot: To reset your password, click on 'Forgot Password' at the login page.\n",
            "You: bye\n",
            "Bot: Goodbye! Have a great day! 👋\n"
          ]
        }
      ]
    },
    {
      "cell_type": "markdown",
      "source": [
        "#Polish It – Add greetings, formatting, and a clean user flow"
      ],
      "metadata": {
        "id": "5TyCeGB2vmgS"
      }
    },
    {
      "cell_type": "code",
      "source": [
        "# Step 5: Final version with greeting, better formatting, and response polishing\n",
        "\n",
        "import time\n",
        "\n",
        "def get_bot_response(user_input):\n",
        "    user_input = user_input.lower()\n",
        "\n",
        "    for question in faq:\n",
        "        if any(word in user_input for word in question.split()):\n",
        "            return faq[question]\n",
        "\n",
        "    return \"🤖 Sorry, I didn’t quite catch that. Can you rephrase it?\"\n",
        "\n",
        "print(\"===================================\")\n",
        "print(\"🤖 Simple Customer Support Chatbot\")\n",
        "print(\"Type your question below. Type 'bye' to exit.\")\n",
        "print(\"===================================\\n\")\n",
        "\n",
        "# Start the chatbot loop\n",
        "while True:\n",
        "    user_input = input(\"🧑 You: \").lower().strip()\n",
        "\n",
        "    if user_input in [\"bye\", \"exit\", \"quit\"]:\n",
        "        print(\"🤖 Bot: Goodbye! Thanks for reaching out. 👋\")\n",
        "        break\n",
        "\n",
        "    time.sleep(0.5)  # Simulate thinking\n",
        "    response = get_bot_response(user_input)\n",
        "    print(\"🤖 Bot:\", response)\n",
        "    print()\n"
      ],
      "metadata": {
        "colab": {
          "base_uri": "https://localhost:8080/"
        },
        "id": "3KEjo-IBtXpT",
        "outputId": "35dc34c5-39fb-4cb6-9ccb-5c3dc6c33377"
      },
      "execution_count": null,
      "outputs": [
        {
          "metadata": {
            "tags": null
          },
          "name": "stdout",
          "output_type": "stream",
          "text": [
            "===================================\n",
            "🤖 Simple Customer Support Chatbot\n",
            "Type your question below. Type 'bye' to exit.\n",
            "===================================\n",
            "\n",
            "🤖 Bot: Our working hours are Monday to Friday, 9 AM to 5 PM.\n",
            "\n",
            "🤖 Bot: 🤖 Sorry, I didn’t quite catch that. Can you rephrase it?\n",
            "\n",
            "🤖 Bot: 🤖 Sorry, I didn’t quite catch that. Can you rephrase it?\n",
            "\n",
            "🤖 Bot: To reset your password, click on 'Forgot Password' at the login page.\n",
            "\n"
          ]
        }
      ]
    }
  ]
}